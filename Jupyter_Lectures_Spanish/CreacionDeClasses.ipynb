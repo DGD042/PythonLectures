{
 "cells": [
  {
   "cell_type": "markdown",
   "metadata": {},
   "source": [
    "# Creación de Objetos en Python\n",
    "\n",
    "**Coded by: Daniel Gonzalez-Duque**\n",
    "\n",
    "---\n",
    "\n",
    "## Introducción\n",
    "\n",
    "Los objetos son la base de los computadores que tenemos actualmente. Independientemente del sistema operativo que se use, cada uno de ellos contiene objetos que permiten su fácil y eficiente funcionamiento.\n",
    "\n",
    "Python, al igual que otros lenguajes de programación, tiene formas de crear objetos que permiten la generación de paquetes modulares y reproducibles para el use de varias personas. Hacen además el código más dinámico y eficiente, ya que no se crean variables intermedias que pueden llenar la RAM del computador.\n",
    "\n",
    "Por su parte, los objetos en programación son elementos que se asemejan a objetos de la vida real. Un ejemplo de ello son las carpetas, las carpetas en la vida real sirven para guardar documentos, estas carpetas tienen atributos como color, nombre y en donde se encuentran guardadas. A su vez, estas carpetas tienen acciones, como abrir, cerrar, mover documentos de una a otra carpeta, o hasta eliminar documentos. Las carpetas en el computador funcionan de la misma manera, contienen los mismos atributos y las mismas acciones.\n",
    "\n",
    "Los objetos en programación poseen dos características:\n",
    "\n",
    "- Estados (Atributos): Elementos que describen al objeto.\n",
    "- Comportamientos (Métodos): Acciones que tiene el objeto.\n",
    "\n",
    "En Python, la creación de objetos se realiza por medio de clases (`class`), la sintáxis para crear clases es la siguiente,\n",
    "\n",
    "```python\n",
    "class Objeto(object):\n",
    "    def __init__(self, parameter_1, parameter_2):\n",
    "        '''\n",
    "        DESCRIPTION:\n",
    "            Esta clase sirve para ...\n",
    "        __________________________________________________\n",
    "        INPUT:\n",
    "            :param parameter_1: ...\n",
    "            :param parameter_2: ...\n",
    "        '''\n",
    "        # Definir atributos\n",
    "        self.parameter_1 = parameter_1\n",
    "        self.parameter_2 = parameter_2\n",
    "    def method_1(self):\n",
    "        '''\n",
    "        DESCRIPTION:\n",
    "            Este metodo devuelve parameter_1\n",
    "        __________________________________________________\n",
    "        OUTPUT:\n",
    "            :return parameter_1: ...\n",
    "        '''\n",
    "        return self.parameter_1\n",
    "```\n",
    "\n",
    "A continuación se presentará la creación de dos objetos para ilustrar la sintáxis de como se crean objetos en Python.\n",
    "\n",
    "---\n",
    "\n",
    "## Ejemplo 1: Carro\n",
    "\n",
    "Como primer ejemplo, vamos a crear un objeto que asemeje a un carro en la vida real. El nombre de la clase será `Carro` y tendrá los siguientes atributos,\n",
    "\n",
    "- Placa\n",
    "- Color\n",
    "- VelocidadActual\n",
    "- VelocidadMaxima\n",
    "- Estado (Prendido o Apagado)\n",
    "\n",
    "A su vez tendrá los siguientes métodos,\n",
    "\n",
    "- Encender\n",
    "- CambioVelocidad\n",
    "- `__str__`\n"
   ]
  },
  {
   "cell_type": "code",
   "execution_count": null,
   "metadata": {},
   "outputs": [],
   "source": [
    "# TODO: Crear clase\n"
   ]
  },
  {
   "cell_type": "code",
   "execution_count": null,
   "metadata": {},
   "outputs": [],
   "source": [
    "# Probar el objeto\n"
   ]
  },
  {
   "cell_type": "markdown",
   "metadata": {},
   "source": [
    "El resultado del ejemplo anterior debería devolver la siguiente cadena de caracteres,\n",
    "\n",
    "`Placa AAA111, Color Rojo, Encendido True,Velocidad Actual 20.0 km/h`\n",
    "\n",
    "---\n",
    "\n",
    "## Ejemplo 2: Fraccionarios\n",
    "\n",
    "En este ejemplo vamos a desarrollar una clase de tipo fraccionario. Esta clase recibirá un numerador y un denominador y creará atributos con ellos. Adicionalmente, debe tener los siguientes métodos,\n",
    "\n",
    "- getDenominador: devuelve el denominador del fraccionario.\n",
    "- getNumerador: devuelve el numerador del fraccionario.\n",
    "- Decimales: devuelve el resultado en decimales.\n",
    "- `__str__`: devuelve el fraccionario.\n",
    "- `__add__`: suma dos fraccionarios y crea uno nuevo."
   ]
  },
  {
   "cell_type": "code",
   "execution_count": null,
   "metadata": {},
   "outputs": [],
   "source": [
    "# TODO: Crear clase Fraccionario\n"
   ]
  },
  {
   "cell_type": "code",
   "execution_count": null,
   "metadata": {},
   "outputs": [],
   "source": [
    "# Probar el objeto"
   ]
  },
  {
   "cell_type": "code",
   "execution_count": null,
   "metadata": {},
   "outputs": [],
   "source": []
  }
 ],
 "metadata": {
  "kernelspec": {
   "display_name": "Python 3",
   "language": "python",
   "name": "python3"
  },
  "language_info": {
   "codemirror_mode": {
    "name": "ipython",
    "version": 3
   },
   "file_extension": ".py",
   "mimetype": "text/x-python",
   "name": "python",
   "nbconvert_exporter": "python",
   "pygments_lexer": "ipython3",
   "version": "3.7.7"
  }
 },
 "nbformat": 4,
 "nbformat_minor": 4
}
